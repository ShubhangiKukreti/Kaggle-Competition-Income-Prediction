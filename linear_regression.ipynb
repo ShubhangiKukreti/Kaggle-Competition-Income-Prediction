{
 "cells": [
  {
   "cell_type": "code",
   "execution_count": 1,
   "metadata": {},
   "outputs": [],
   "source": [
    "%matplotlib inline\n",
    "import pandas as pd\n",
    "import matplotlib.pyplot as plt\n",
    "import numpy as np\n",
    "from sklearn.preprocessing import StandardScaler\n",
    "from sklearn.preprocessing import OneHotEncoder\n",
    "from sklearn.linear_model import LinearRegression\n",
    "from sklearn.linear_model import BayesianRidge\n",
    "from sklearn.metrics import mean_squared_error\n",
    "from sklearn.model_selection import train_test_split\n",
    "from math import sqrt\n"
   ]
  },
  {
   "cell_type": "code",
   "execution_count": 2,
   "metadata": {},
   "outputs": [],
   "source": [
    "def FeatureExtraction(dataFrame,columnName):\n",
    "\n",
    "    # OneHeartEncoder\n",
    "    encoder = OneHotEncoder(sparse = False, handle_unknown = 'ignore')\n",
    "\n",
    "    #reshape the column\n",
    "    column = dataFrame[columnName]\n",
    "    column = np.array(column).reshape(-1,1)\n",
    "\n",
    "    #Extract and join the data frame\n",
    "    dataFrame = dataFrame.join(pd.DataFrame(encoder.fit_transform(column),columns=encoder.categories_,index=dataFrame.index))\n",
    "\n",
    "    #Remove the Column\n",
    "    dataFrame = dataFrame.drop([columnName], axis = 1)\n",
    "\n",
    "    return dataFrame\n",
    "\n"
   ]
  },
  {
   "cell_type": "code",
   "execution_count": 3,
   "metadata": {},
   "outputs": [],
   "source": [
    "def ExtractingSplFeatures(uniques,dataFrame,columnName):\n",
    "    \n",
    "    # OneHeartEncoder\n",
    "    encoder = OneHotEncoder(categories = [uniques],sparse = False, handle_unknown = 'ignore')\n",
    "\n",
    "    #reshape the column\n",
    "    column = dataFrame[columnName]\n",
    "    column = np.array(column).reshape(-1,1)\n",
    "    print(column)\n",
    "    #Extract the column and join the data frame\n",
    "    dataFrame = dataFrame.join(pd.DataFrame(encoder.fit_transform(column),columns=encoder.categories_,index=dataFrame.index))\n",
    "\n",
    "    #Remove the profession Column\n",
    "    dataFrame = dataFrame.drop([columnName], axis = 1)\n",
    "\n",
    "    return dataFrame"
   ]
  },
  {
   "cell_type": "code",
   "execution_count": 16,
   "metadata": {},
   "outputs": [],
   "source": [
    "data = pd.read_csv('training-data-with-labels.csv')\n",
    "data_test = pd.read_csv('test-data-without-labels.csv')\n",
    "\n",
    "data = data[(data['Income in EUR']>0) & (data['Income in EUR']<2600000)]\n",
    "\n",
    "#data = data.drop(['Hair Color'], axis=1)\n",
    "#data_test = data_test.drop(['Hair Color'], axis=1)\n",
    "#data = data.drop(['Size of City'], axis=1)\n",
    "#data_test = data_test.drop(['Size of City'], axis=1)\n",
    "#data = data.drop(['Instance'], axis=1)\n",
    "#data_test = data_test.drop(['Instance'], axis=1)\n",
    "\n",
    "\n",
    "#data_Q1 = data.quantile(0.25)\n",
    "#data_Q3 = data.quantile(0.75)\n",
    "#data_IQR = data_Q3 - data_Q1\n",
    "#data = data[~((data < (data_Q1 - 1.5 * data_IQR)) |(data > (data_Q3 + 1.5 * data_IQR))).any(axis=1)]\n",
    "\n",
    "#data_test_Q1 = data_test.quantile(0.25)\n",
    "#data_test_Q3 = data_test.quantile(0.75)\n",
    "#data_test_IQR = data_test_Q3 - data_test_Q1\n",
    "#data_test = data_test[~((data_test < (data_test_Q1 - 1.5 * data_test_IQR)) |(data_test > (data_test_Q3 + 1.5 * data_test_IQR))).any(axis=1)]\n"
   ]
  },
  {
   "cell_type": "code",
   "execution_count": 17,
   "metadata": {},
   "outputs": [],
   "source": [
    "data['Year of Record'].fillna(data['Year of Record'].mean(), inplace=True)   #filling missing numeric values\n",
    "data['Age'].fillna(data['Age'].mean(), inplace=True)\n",
    "data['Gender'] = data['Gender'].fillna('unknown gender')\n",
    "data['Profession'] = data['Profession'].fillna('Unknown Profession')\n",
    "data['University Degree'] = data['University Degree'].fillna('No degree')\n",
    "data['Hair Color'] = data['Hair Color'].fillna('Unknown hair')\n",
    "\n",
    "\n",
    "data_test['Year of Record'].fillna(data_test['Year of Record'].mean(), inplace=True)   #filling missing numeric values\n",
    "data_test['Age'].fillna(data_test['Age'].mean(), inplace=True)\n",
    "data_test['Gender'] = data_test['Gender'].fillna('unknown gender')\n",
    "data_test['Profession'] = data_test['Profession'].fillna('unknown Profession')\n",
    "data_test['University Degree'] = data_test['University Degree'].fillna('No degree')\n",
    "data_test['Hair Color'] = data_test['Hair Color'].fillna('Unknown hair')\n"
   ]
  },
  {
   "cell_type": "code",
   "execution_count": 18,
   "metadata": {},
   "outputs": [],
   "source": [
    "data['Gender'] = data['Gender'].replace(['0','unknown' ], 'unknown gender')                   #replacing 0s with categorical values\n",
    "data['University Degree'] = data['University Degree'].replace(['0','#N/A'], 'No degree')\n",
    "data['Hair Color'] = data['Hair Color'].replace(['0','unknown'], 'Unknown Hair')\n",
    "#data['Year of Record'] = data['Year of Record'].replace(['0','#N/A'], 'Unknown Profession')\n",
    "\n",
    "data_test['Gender'] = data_test['Gender'].replace(['0','unknown'], 'unknown')           #replacing 0s with categorical values\n",
    "data_test['University Degree'] = data_test['University Degree'].replace(['0','#N/A'], 'No degree')\n",
    "data_test['Hair Color'] = data_test['Hair Color'].replace(['0','unknown'], 'Unknown')\n",
    "#data_test['Year of Record'] = data_test['Year of Record'].replace(['0','#N/A'], 'Unknown')\n"
   ]
  },
  {
   "cell_type": "code",
   "execution_count": 19,
   "metadata": {},
   "outputs": [
    {
     "name": "stdout",
     "output_type": "stream",
     "text": [
      "[['steel workers']\n",
      " ['safe event coordinator']\n",
      " ['receivables/payables analyst']\n",
      " ...\n",
      " ['messenger']\n",
      " ['senior case support associate']\n",
      " ['project manager ']]\n",
      "[['Belarus']\n",
      " ['Singapore']\n",
      " ['Norway']\n",
      " ...\n",
      " ['Sri Lanka']\n",
      " ['Denmark']\n",
      " ['State of Palestine']]\n",
      "[['senior project analyst']\n",
      " ['greeter']\n",
      " ['liaison']\n",
      " ...\n",
      " ['neigborhood resiliency specialist']\n",
      " ['it infrastructure project manager']\n",
      " ['materials engineer']]\n",
      "[['Honduras']\n",
      " ['Kyrgyzstan']\n",
      " ['Portugal']\n",
      " ...\n",
      " ['Sweden']\n",
      " ['Netherlands']\n",
      " ['Tunisia']]\n"
     ]
    }
   ],
   "source": [
    "data = FeatureExtraction(data, 'Gender')\n",
    "data = FeatureExtraction(data, 'University Degree')\n",
    "data = FeatureExtraction(data, 'Hair Color')\n",
    "data_unique_prof = data['Profession'].unique()\n",
    "data_unique_country = data['Country'].unique()\n",
    "data = ExtractingSplFeatures(data_unique_prof, data, 'Profession')\n",
    "data = ExtractingSplFeatures(data_unique_country, data, 'Country')\n",
    "\n",
    "data_test = FeatureExtraction(data_test, 'Gender')\n",
    "data_test = FeatureExtraction(data_test, 'University Degree')\n",
    "data_test = FeatureExtraction(data_test, 'Hair Color')\n",
    "data_test = ExtractingSplFeatures(data_unique_prof, data_test, 'Profession')\n",
    "data_test = ExtractingSplFeatures(data_unique_country, data_test, 'Country')\n"
   ]
  },
  {
   "cell_type": "code",
   "execution_count": 20,
   "metadata": {},
   "outputs": [],
   "source": [
    "X = data.drop(['Income in EUR'], axis = 1)\n",
    "y = data['Income in EUR']\n",
    "\n",
    "xTrain, xValidate, yTrain, yValidate = train_test_split(X, y, test_size = 0.2, random_state = 0)\n",
    "\n",
    "X_test =  data_test.drop(\"Income\", axis=1)\n",
    "\n",
    "\n",
    "\n",
    "\n",
    "#dummy_data = data.copy\n",
    "#X_train = dummy_data.drop(\"Income in EUR\", axis=1, inplace=False)\n",
    "#y_train = data['Income in EUR']\n",
    "#X_test = data_test.drop(\"Income in EUR\", axis=1, inplace=False)"
   ]
  },
  {
   "cell_type": "code",
   "execution_count": 21,
   "metadata": {},
   "outputs": [
    {
     "name": "stdout",
     "output_type": "stream",
     "text": [
      "rmes is78531.66694608485\n"
     ]
    }
   ],
   "source": [
    "#applying the model\n",
    "#regressor = LinearRegression()\n",
    "regressor = BayesianRidge()\n",
    "regressor.fit(xTrain, yTrain)\n",
    "#regressor.fit(X, y)\n",
    "y_pred = regressor.predict(xValidate)\n",
    "result = regressor.predict(X_test)\n",
    "res = pd.DataFrame(X_test['Instance'])\n",
    "res['Income'] = result\n",
    "res.index = X_test.index # for comparison\n",
    "res.to_csv(\"tcd ml 2019-20 income prediction submission file.csv\")\n",
    "#y_rmse = np.y_pred[1:22400, :]\n",
    "rms = np.sqrt(mean_squared_error(yValidate, y_pred))\n",
    "print(\"rmes is\" + str(rms))\n",
    "#y_pred = pd.DataFrame(y_pred, columns=['Income']).to_csv('prediction.csv')"
   ]
  }
 ],
 "metadata": {
  "kernelspec": {
   "display_name": "Python 3",
   "language": "python",
   "name": "python3"
  },
  "language_info": {
   "codemirror_mode": {
    "name": "ipython",
    "version": 3
   },
   "file_extension": ".py",
   "mimetype": "text/x-python",
   "name": "python",
   "nbconvert_exporter": "python",
   "pygments_lexer": "ipython3",
   "version": "3.7.4"
  }
 },
 "nbformat": 4,
 "nbformat_minor": 2
}
